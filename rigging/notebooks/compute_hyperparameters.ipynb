{
 "cells": [
  {
   "cell_type": "code",
   "execution_count": 1,
   "id": "55f1f5c6-94c8-4f74-8789-bb702c90f29d",
   "metadata": {
    "ExecutionIndicator": {
     "show": true
    },
    "execution": {
     "iopub.execute_input": "2025-01-24T06:33:40.402566Z",
     "iopub.status.busy": "2025-01-24T06:33:40.402281Z",
     "iopub.status.idle": "2025-01-24T06:33:42.636529Z",
     "shell.execute_reply": "2025-01-24T06:33:42.635721Z",
     "shell.execute_reply.started": "2025-01-24T06:33:40.402544Z"
    },
    "tags": []
   },
   "outputs": [
    {
     "ename": "ModuleNotFoundError",
     "evalue": "No module named 'gecco_torch'",
     "output_type": "error",
     "traceback": [
      "\u001b[0;31m---------------------------------------------------------------------------\u001b[0m",
      "\u001b[0;31mModuleNotFoundError\u001b[0m                       Traceback (most recent call last)",
      "Cell \u001b[0;32mIn[1], line 2\u001b[0m\n\u001b[1;32m      1\u001b[0m \u001b[38;5;28;01mimport\u001b[39;00m \u001b[38;5;21;01mtorch\u001b[39;00m\n\u001b[0;32m----> 2\u001b[0m \u001b[38;5;28;01mimport\u001b[39;00m \u001b[38;5;21;01mgecco_torch\u001b[39;00m\n\u001b[1;32m      3\u001b[0m \u001b[38;5;28;01mimport\u001b[39;00m \u001b[38;5;21;01mmatplotlib\u001b[39;00m\u001b[38;5;21;01m.\u001b[39;00m\u001b[38;5;21;01mpyplot\u001b[39;00m \u001b[38;5;28;01mas\u001b[39;00m \u001b[38;5;21;01mplt\u001b[39;00m\n\u001b[1;32m      4\u001b[0m \u001b[38;5;28;01mimport\u001b[39;00m \u001b[38;5;21;01mlightning\u001b[39;00m\u001b[38;5;21;01m.\u001b[39;00m\u001b[38;5;21;01mpytorch\u001b[39;00m \u001b[38;5;28;01mas\u001b[39;00m \u001b[38;5;21;01mpl\u001b[39;00m\n",
      "\u001b[0;31mModuleNotFoundError\u001b[0m: No module named 'gecco_torch'"
     ]
    }
   ],
   "source": [
    "import torch\n",
    "import gecco_torch\n",
    "import matplotlib.pyplot as plt\n",
    "import lightning.pytorch as pl\n",
    "from einops import rearrange\n",
    "from torch import Tensor\n",
    "from torch.utils.data import DataLoader"
   ]
  },
  {
   "cell_type": "code",
   "execution_count": 15,
   "id": "f6a60185-df1b-4c71-9511-f2dfe971f104",
   "metadata": {
    "ExecutionIndicator": {
     "show": false
    },
    "execution": {
     "iopub.execute_input": "2024-07-13T13:41:04.383009Z",
     "iopub.status.busy": "2024-07-13T13:41:04.382331Z",
     "iopub.status.idle": "2024-07-13T13:41:32.568362Z",
     "shell.execute_reply": "2024-07-13T13:41:32.567826Z",
     "shell.execute_reply.started": "2024-07-13T13:41:04.382986Z"
    },
    "tags": []
   },
   "outputs": [
    {
     "name": "stdout",
     "output_type": "stream",
     "text": [
      "num steps: 2000000, batch size: 48, save_every: 10000, epoch size: 480000, num epochs: 200\n"
     ]
    },
    {
     "data": {
      "application/vnd.jupyter.widget-view+json": {
       "model_id": "3f8e92699c8e4adf93bbb7c0cf2b5666",
       "version_major": 2,
       "version_minor": 0
      },
      "text/plain": [
       "  0%|          | 0/29 [00:00<?, ?it/s]"
      ]
     },
     "metadata": {},
     "output_type": "display_data"
    },
    {
     "data": {
      "application/vnd.jupyter.widget-view+json": {
       "model_id": "d831e99112a44c95af8673359a906513",
       "version_major": 2,
       "version_minor": 0
      },
      "text/plain": [
       "  0%|          | 0/29 [00:00<?, ?it/s]"
      ]
     },
     "metadata": {},
     "output_type": "display_data"
    }
   ],
   "source": [
    "config = gecco_torch.load_config('../example_configs/train_joints.py')\n",
    "data: pl.LightningDataModule = config.data\n",
    "data.setup() # lightning data modules need to be setup before they can be used"
   ]
  },
  {
   "cell_type": "code",
   "execution_count": 16,
   "id": "c17670a2-fd25-4265-9142-34e529f2ee01",
   "metadata": {
    "ExecutionIndicator": {
     "show": true
    },
    "execution": {
     "iopub.execute_input": "2024-07-13T13:41:34.910855Z",
     "iopub.status.busy": "2024-07-13T13:41:34.910049Z",
     "iopub.status.idle": "2024-07-13T13:41:37.336038Z",
     "shell.execute_reply": "2024-07-13T13:41:37.335121Z",
     "shell.execute_reply.started": "2024-07-13T13:41:34.910831Z"
    },
    "tags": []
   },
   "outputs": [],
   "source": [
    "batches = []\n",
    "\n",
    "dataloader: DataLoader = data.train_dataloader()\n",
    "\n",
    "for i, batch in enumerate(dataloader):\n",
    "    if i == 5: # break early to save time\n",
    "        break\n",
    "    batches.append(batch)\n",
    "\n",
    "batches: gecco_torch.structs.Example = dataloader.collate_fn(batches) # [5, batch_size, ...]\n",
    "batches = batches.apply_to_tensors(lambda t: t.reshape(-1, *t.shape[2:])) # [5 * batch_size, ...]"
   ]
  },
  {
   "cell_type": "code",
   "execution_count": 17,
   "id": "f4b5d462-0108-4c68-b44f-27123859f948",
   "metadata": {
    "execution": {
     "iopub.execute_input": "2024-07-13T13:41:40.753065Z",
     "iopub.status.busy": "2024-07-13T13:41:40.752447Z",
     "iopub.status.idle": "2024-07-13T13:41:40.757638Z",
     "shell.execute_reply": "2024-07-13T13:41:40.757103Z",
     "shell.execute_reply.started": "2024-07-13T13:41:40.753039Z"
    },
    "tags": []
   },
   "outputs": [
    {
     "data": {
      "text/plain": [
       "Example(\n",
       " data=(240, 100, 3),\n",
       " ctx=Context3d(\n",
       "   image=(240, 3, 1024, 1024),\n",
       "   K=(240, 3, 3),\n",
       " )\n",
       ")"
      ]
     },
     "execution_count": 17,
     "metadata": {},
     "output_type": "execute_result"
    }
   ],
   "source": [
    "batches"
   ]
  },
  {
   "cell_type": "code",
   "execution_count": 18,
   "id": "f7fe8456-0103-4d8c-81cd-f01334317301",
   "metadata": {
    "ExecutionIndicator": {
     "show": true
    },
    "execution": {
     "iopub.execute_input": "2024-07-13T13:41:43.514739Z",
     "iopub.status.busy": "2024-07-13T13:41:43.513898Z",
     "iopub.status.idle": "2024-07-13T13:41:43.528988Z",
     "shell.execute_reply": "2024-07-13T13:41:43.528355Z",
     "shell.execute_reply.started": "2024-07-13T13:41:43.514701Z"
    },
    "tags": []
   },
   "outputs": [],
   "source": [
    "placeholder_reparam = gecco_torch.reparam.GaussianReparam(\n",
    "   mean=torch.zeros(3),\n",
    "   sigma=torch.ones(3),\n",
    ")\n",
    "\n",
    "# placeholder_reparam = gecco_torch.reparam.UVLReparam(\n",
    "#     mean=torch.zeros(3),\n",
    "#     sigma=torch.ones(3),\n",
    "# )\n",
    "\n",
    "diff_placeholder = placeholder_reparam.data_to_diffusion(batches.data, batches.ctx)"
   ]
  },
  {
   "cell_type": "code",
   "execution_count": 19,
   "id": "8041a707-46c5-4164-949f-c7322f418006",
   "metadata": {
    "execution": {
     "iopub.execute_input": "2024-07-13T13:41:45.652863Z",
     "iopub.status.busy": "2024-07-13T13:41:45.652188Z",
     "iopub.status.idle": "2024-07-13T13:41:46.638823Z",
     "shell.execute_reply": "2024-07-13T13:41:46.638327Z",
     "shell.execute_reply.started": "2024-07-13T13:41:45.652841Z"
    },
    "tags": []
   },
   "outputs": [
    {
     "data": {
      "image/png": "[encoded data removed]",
      "text/plain": [
       "<Figure size 640x480 with 1 Axes>"
      ]
     },
     "metadata": {},
     "output_type": "display_data"
    }
   ],
   "source": [
    "def data_statistics(data: Tensor) -> tuple[Tensor, Tensor]:\n",
    "    x, y, z = data.unbind(-1)\n",
    "    fig, ax = plt.subplots()\n",
    "    kw = dict(histtype='step', bins=torch.linspace(data.min(), data.max(), 100))\n",
    "    ax.hist(x.flatten(), label=f'x mu={x.mean().item():.02f}, sigma={x.std().item():0.2f}', **kw)\n",
    "    ax.hist(y.flatten(), label=f'y mu={y.mean().item():.02f}, sigma={y.std().item():0.2f}', **kw)\n",
    "    ax.hist(z.flatten(), label=f'z mu={z.mean().item():.02f}, sigma={z.std().item():0.2f}', **kw)\n",
    "    fig.legend()\n",
    "\n",
    "    mean = data.mean(dim=(0, 1))\n",
    "    sigma = data.std(dim=(0, 1))\n",
    "\n",
    "    return mean, sigma\n",
    "\n",
    "mean_raw, sigma_raw = data_statistics(diff_placeholder)"
   ]
  },
  {
   "cell_type": "code",
   "execution_count": 7,
   "id": "c419615a-8ed4-4bb4-9002-ee9a89c48511",
   "metadata": {
    "ExecutionIndicator": {
     "show": true
    },
    "execution": {
     "iopub.execute_input": "2024-07-13T09:31:48.523719Z",
     "iopub.status.busy": "2024-07-13T09:31:48.522982Z",
     "iopub.status.idle": "2024-07-13T09:31:48.527717Z",
     "shell.execute_reply": "2024-07-13T09:31:48.526985Z",
     "shell.execute_reply.started": "2024-07-13T09:31:48.523693Z"
    },
    "tags": []
   },
   "outputs": [
    {
     "name": "stdout",
     "output_type": "stream",
     "text": [
      "GaussianReparam(mean=[nan, nan, -inf], sigma=[nan, nan, nan])\n"
     ]
    }
   ],
   "source": [
    "adjusted_reparam = gecco_torch.reparam.GaussianReparam(mean=mean_raw, sigma=sigma_raw)\n",
    "# adjusted_reparam = gecco_torch.reparam.UVLReparam(mean=mean_raw, sigma=sigma_raw)\n",
    "print(adjusted_reparam)"
   ]
  },
  {
   "cell_type": "code",
   "execution_count": 13,
   "id": "6b0f98ab-3105-4ffe-a6d4-dd3665f7cae5",
   "metadata": {
    "execution": {
     "iopub.execute_input": "2024-07-11T03:26:53.391366Z",
     "iopub.status.busy": "2024-07-11T03:26:53.390644Z",
     "iopub.status.idle": "2024-07-11T03:26:53.749147Z",
     "shell.execute_reply": "2024-07-11T03:26:53.748663Z",
     "shell.execute_reply.started": "2024-07-11T03:26:53.391344Z"
    },
    "tags": []
   },
   "outputs": [
    {
     "data": {
      "text/plain": [
       "(tensor([ 4.1779e-09, -6.0499e-09, -2.0742e-08]), tensor([1., 1., 1.]))"
      ]
     },
     "execution_count": 13,
     "metadata": {},
     "output_type": "execute_result"
    },
    {
     "data": {
      "image/png": "[encoded data removed]",
      "text/plain": [
       "<Figure size 640x480 with 1 Axes>"
      ]
     },
     "metadata": {},
     "output_type": "display_data"
    }
   ],
   "source": [
    "diff_adjusted = adjusted_reparam.data_to_diffusion(batches.data, batches.ctx)\n",
    "\n",
    "data_statistics(diff_adjusted)"
   ]
  },
  {
   "cell_type": "code",
   "execution_count": null,
   "id": "0de89cf1-0879-42c5-bb5a-dd81510eb4ae",
   "metadata": {},
   "outputs": [],
   "source": [
    "diff_flat = rearrange(diff_adjusted, 'b n d -> b (n d)')\n",
    "\n",
    "distm = torch.cdist(diff_flat, diff_flat)\n",
    "print(f'The value to use for sigma_max of your noise schedule is {distm.max().item()}.')\n",
    "_ = plt.hist(distm.flatten()) # show a histogram of the distances for better intuition"
   ]
  }
 ],
 "metadata": {
  "kernelspec": {
   "display_name": "Python 3 (ipykernel)",
   "language": "python",
   "name": "python3"
  },
  "language_info": {
   "codemirror_mode": {
    "name": "ipython",
    "version": 3
   },
   "file_extension": ".py",
   "mimetype": "text/x-python",
   "name": "python",
   "nbconvert_exporter": "python",
   "pygments_lexer": "ipython3",
   "version": "3.10.13"
  }
 },
 "nbformat": 4,
 "nbformat_minor": 5
}
